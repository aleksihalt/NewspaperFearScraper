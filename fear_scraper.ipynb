{
 "cells": [
  {
   "cell_type": "code",
   "execution_count": 1,
   "metadata": {},
   "outputs": [],
   "source": [
    "from numpy import *\n",
    "import urllib.request\n",
    "from bs4 import BeautifulSoup\n",
    "from gensim.summarization import summarize\n",
    "\n",
    "#used this resource for help: https://towardsdatascience.com/easily-scrape-and-summarize-news-articles-using-python-dfc7667d9e74"
   ]
  },
  {
   "cell_type": "code",
   "execution_count": 2,
   "metadata": {},
   "outputs": [],
   "source": [
    "def dailyMailDeathCounter():\n",
    "    html = urllib.request.urlopen('https://www.dailymail.co.uk/home/index.html').read()\n",
    "    soup = BeautifulSoup(html,\"lxml\")\n",
    "    listOfLinks = []\n",
    "    listOfLinksNoDuplicates = []\n",
    "    deathcount = 0\n",
    "    headerdeathcount = 0\n",
    "    for link in soup.find_all('a'):\n",
    "        linkaddress=link.get('href')\n",
    "        if linkaddress != None:\n",
    "            if \"corona\" in linkaddress and \"#\" not in linkaddress:\n",
    "                if linkaddress[0]==\"/\":\n",
    "                    linkaddress=\"https://www.dailymail.co.uk\"+linkaddress\n",
    "                    listOfLinks.append(linkaddress)\n",
    "                else:\n",
    "                    listOfLinks.append(linkaddress)\n",
    "    for i in listOfLinks:\n",
    "        if i not in listOfLinksNoDuplicates:\n",
    "            listOfLinksNoDuplicates.append(i)\n",
    "    html1 = urllib.request.urlopen(listOfLinksNoDuplicates[1]).read()\n",
    "    for i in listOfLinksNoDuplicates:\n",
    "        html1 = urllib.request.urlopen(i).read()\n",
    "        soup1 = BeautifulSoup(html1,\"lxml\")\n",
    "        p_tags = soup1.find_all('p')\n",
    "        p_tags_text = [tag.get_text().strip() for tag in p_tags]\n",
    "        sentence_list = [sentence for sentence in p_tags_text if not '\\n' in sentence]\n",
    "        sentence_list = [sentence for sentence in sentence_list if '.' in sentence]\n",
    "        article = ' '.join(sentence_list)\n",
    "        headers = soup1.find('h1').get_text()\n",
    "        #print(headers)\n",
    "        headerdeathcount = headerdeathcount + headers.count(\"death\") + headers.count(\"die\") + headers.count(\"dead\")\n",
    "        #summary = summarize(article, ratio=0.3)\n",
    "        deathcount = deathcount + article.count(\"death\") + article.count(\"die\") + article.count(\"dead\")\n",
    "        #print(article)\n",
    "    print(\"average per article = \", deathcount/len(listOfLinksNoDuplicates), \"\\naverage per title = \", headerdeathcount/len(listOfLinksNoDuplicates))"
   ]
  },
  {
   "cell_type": "code",
   "execution_count": 3,
   "metadata": {},
   "outputs": [],
   "source": [
    "def theGuardianDeathCounter():\n",
    "    html = urllib.request.urlopen('https://www.theguardian.com/international').read()\n",
    "    soup = BeautifulSoup(html,\"lxml\")\n",
    "    listOfLinks = []\n",
    "    listOfLinksNoDuplicates = []\n",
    "    deathcount = 0\n",
    "    headerdeathcount = 0\n",
    "    for link in soup.find_all('a'):\n",
    "        linkaddress=link.get('href')\n",
    "        if linkaddress != None:\n",
    "            if \"corona\" in linkaddress and \"#\" not in linkaddress:\n",
    "                if linkaddress[0]==\"/\":\n",
    "                    linkaddress=\"https://www.theguardian.com\"+linkaddress\n",
    "                    listOfLinks.append(linkaddress)\n",
    "                else:\n",
    "                    listOfLinks.append(linkaddress)\n",
    "    for i in listOfLinks:\n",
    "        if i not in listOfLinksNoDuplicates:\n",
    "            listOfLinksNoDuplicates.append(i)\n",
    "    html1 = urllib.request.urlopen(listOfLinksNoDuplicates[1]).read()\n",
    "    for i in listOfLinksNoDuplicates:\n",
    "        html1 = urllib.request.urlopen(i).read()\n",
    "        soup1 = BeautifulSoup(html1,\"lxml\")\n",
    "        p_tags = soup1.find_all('p')\n",
    "        p_tags_text = [tag.get_text().strip() for tag in p_tags]\n",
    "        sentence_list = [sentence for sentence in p_tags_text if not '\\n' in sentence]\n",
    "        sentence_list = [sentence for sentence in sentence_list if '.' in sentence]\n",
    "        article = ' '.join(sentence_list)\n",
    "        headers = soup1.find('h1').get_text()\n",
    "        #print(headers)\n",
    "        headerdeathcount = headerdeathcount + headers.count(\"death\") + headers.count(\"die\") + headers.count(\"dead\")\n",
    "        #summary = summarize(article, ratio=0.3)\n",
    "        deathcount = deathcount + article.count(\"death\") + article.count(\"die\") + article.count(\"dead\")\n",
    "        #print(article)\n",
    "    print(\"average per article = \", deathcount/len(listOfLinksNoDuplicates), \"\\naverage per title = \", headerdeathcount/len(listOfLinksNoDuplicates))"
   ]
  },
  {
   "cell_type": "code",
   "execution_count": 4,
   "metadata": {},
   "outputs": [
    {
     "name": "stdout",
     "output_type": "stream",
     "text": [
      "Daily Mail occurences of the words 'death', 'dead', and 'die'\n",
      "average per article =  4.122222222222222 \n",
      "average per title =  0.2\n",
      "\n",
      "\n",
      "The Guardian occurences of the words 'death', 'dead', and 'die'\n",
      "average per article =  2.0727272727272728 \n",
      "average per title =  0.01818181818181818\n"
     ]
    }
   ],
   "source": [
    "print(\"Daily Mail occurences of the words 'death', 'dead', and 'die'\")\n",
    "dailyMailDeathCounter()\n",
    "print(\"\\n\")\n",
    "print(\"The Guardian occurences of the words 'death', 'dead', and 'die'\")\n",
    "theGuardianDeathCounter()"
   ]
  }
 ],
 "metadata": {
  "kernelspec": {
   "display_name": "Python 3",
   "language": "python",
   "name": "python3"
  },
  "language_info": {
   "codemirror_mode": {
    "name": "ipython",
    "version": 3
   },
   "file_extension": ".py",
   "mimetype": "text/x-python",
   "name": "python",
   "nbconvert_exporter": "python",
   "pygments_lexer": "ipython3",
   "version": "3.6.9"
  }
 },
 "nbformat": 4,
 "nbformat_minor": 2
}
